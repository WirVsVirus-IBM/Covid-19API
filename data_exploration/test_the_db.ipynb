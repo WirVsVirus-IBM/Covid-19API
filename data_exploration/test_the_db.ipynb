{
 "cells": [
  {
   "cell_type": "code",
   "execution_count": 5,
   "metadata": {},
   "outputs": [
    {
     "name": "stdout",
     "output_type": "stream",
     "text": [
      "Collecting psycopg2\n",
      "  Downloading https://files.pythonhosted.org/packages/1a/85/853f11abfccfd581b099e5ae5f2dd807cc2919745b13d14e565022fd821c/psycopg2-2.8.4-cp37-cp37m-win_amd64.whl (1.1MB)\n",
      "Installing collected packages: psycopg2\n",
      "Successfully installed psycopg2-2.8.4\n"
     ]
    }
   ],
   "source": [
    "!pip install psycopg2\n",
    "import psycopg2"
   ]
  },
  {
   "cell_type": "code",
   "execution_count": 47,
   "metadata": {},
   "outputs": [
    {
     "name": "stdout",
     "output_type": "stream",
     "text": [
      "connected to DB\n",
      "('rki_data_germany',)\n",
      "column \"rki_data_germany.case_count\" must appear in the GROUP BY clause or be used in an aggregate function\n",
      "LINE 1: SELECT state, case_count  FROM rki_data_germany GROUP BY 1\n",
      "                      ^\n",
      "\n"
     ]
    }
   ],
   "source": [
    "try:\n",
    "    conn = psycopg2.connect(\"dbname='wirvsvirus' user='wirvsvirus' host='marc-book.de' password='[n2^3kKCyxUGgzuV'\")\n",
    "    print(\"connected to DB\")\n",
    "    cur = conn.cursor()\n",
    "    \n",
    "    cur.execute(\"\"\"SELECT table_name FROM information_schema.tables\n",
    "       WHERE table_schema = 'public'\"\"\")\n",
    "    for table in cur.fetchall():\n",
    "        print(table)\n",
    "\n",
    "    cur.execute(\"\"\"SELECT state, case_count  FROM rki_data_germany GROUP BY 1\"\"\")\n",
    "    rows = cur.fetchall()\n",
    "\n",
    "except (Exception, psycopg2.DatabaseError) as error:\n",
    "        print(error)\n",
    "\n",
    "finally:\n",
    "    if conn is not None:\n",
    "        conn.close()"
   ]
  },
  {
   "cell_type": "code",
   "execution_count": 45,
   "metadata": {},
   "outputs": [
    {
     "data": {
      "text/plain": [
       "17"
      ]
     },
     "execution_count": 45,
     "metadata": {},
     "output_type": "execute_result"
    }
   ],
   "source": [
    "len(rows)"
   ]
  },
  {
   "cell_type": "code",
   "execution_count": 46,
   "metadata": {},
   "outputs": [
    {
     "data": {
      "text/plain": [
       "[('Sachsen',),\n",
       " ('Saarland',),\n",
       " ('Brandenburg',),\n",
       " ('Hessen',),\n",
       " ('Nordrhein-Westfalen',),\n",
       " ('Bremen',),\n",
       " ('Hamburg',),\n",
       " ('Mecklenburg-Vorpommern',),\n",
       " ('Baden-Württemberg',),\n",
       " ('Berlin',),\n",
       " ('',),\n",
       " ('Thüringen',),\n",
       " ('Rheinland-Pfalz',),\n",
       " ('Sachsen-Anhalt',),\n",
       " ('Niedersachsen',),\n",
       " ('Bayern',),\n",
       " ('Schleswig-Holstein',)]"
      ]
     },
     "execution_count": 46,
     "metadata": {},
     "output_type": "execute_result"
    }
   ],
   "source": [
    "rows"
   ]
  },
  {
   "cell_type": "code",
   "execution_count": null,
   "metadata": {},
   "outputs": [],
   "source": []
  }
 ],
 "metadata": {
  "kernelspec": {
   "display_name": "Python 3",
   "language": "python",
   "name": "python3"
  },
  "language_info": {
   "codemirror_mode": {
    "name": "ipython",
    "version": 3
   },
   "file_extension": ".py",
   "mimetype": "text/x-python",
   "name": "python",
   "nbconvert_exporter": "python",
   "pygments_lexer": "ipython3",
   "version": "3.7.4"
  }
 },
 "nbformat": 4,
 "nbformat_minor": 4
}
