{
 "cells": [
  {
   "cell_type": "code",
   "execution_count": 181,
   "metadata": {},
   "outputs": [],
   "source": [
    "import requests\n",
    "import pandas as pd\n",
    "import json\n",
    "import datetime"
   ]
  },
  {
   "cell_type": "code",
   "execution_count": 182,
   "metadata": {},
   "outputs": [],
   "source": [
    "my_list = [0,2000,4000,6000,8000]\n",
    "json_files = []\n",
    "for item in my_list:\n",
    "    url = 'https://services7.arcgis.com/mOBPykOjAyBO2ZKk/arcgis/rest/services/RKI_COVID19/FeatureServer/0/query?f=json&where=1%3D1&outFields=*&resultOffset='+str(item)\n",
    "    r = requests.get(url, allow_redirects=True)\n",
    "    json_temp = r.json()\n",
    "    json_files.append(json_temp)"
   ]
  },
  {
   "cell_type": "code",
   "execution_count": 183,
   "metadata": {},
   "outputs": [
    {
     "data": {
      "text/plain": [
       "{'attributes': {'IdBundesland': -1,\n",
       "  'Bundesland': '-nicht erhoben-',\n",
       "  'Landkreis': '-nicht erhoben-',\n",
       "  'Altersgruppe': 'A15-A34',\n",
       "  'Geschlecht': 'W',\n",
       "  'AnzahlFall': 1,\n",
       "  'AnzahlTodesfall': 0,\n",
       "  'ObjectId': 146936,\n",
       "  'Meldedatum': 1584662400000,\n",
       "  'IdLandkreis': '0-1'}}"
      ]
     },
     "execution_count": 183,
     "metadata": {},
     "output_type": "execute_result"
    }
   ],
   "source": [
    "json_files[0][\"features\"][0]"
   ]
  },
  {
   "cell_type": "code",
   "execution_count": 173,
   "metadata": {},
   "outputs": [],
   "source": [
    "all_case_objects = []\n",
    "for json_file in json_files:\n",
    "    for item in json_file[\"features\"]:\n",
    "        all_case_objects.append(item[\"attributes\"])"
   ]
  },
  {
   "cell_type": "code",
   "execution_count": 195,
   "metadata": {},
   "outputs": [
    {
     "data": {
      "text/plain": [
       "8232"
      ]
     },
     "execution_count": 195,
     "metadata": {},
     "output_type": "execute_result"
    }
   ],
   "source": [
    "len(all_case_objects)"
   ]
  },
  {
   "cell_type": "code",
   "execution_count": 196,
   "metadata": {},
   "outputs": [],
   "source": [
    "state_id = []\n",
    "state = []\n",
    "gender = []\n",
    "province_id = []\n",
    "province = []\n",
    "object_id = []\n",
    "reported_date = []\n",
    "death_count = []\n",
    "case_count = []\n",
    "age_group_start = []\n",
    "age_group_end = []\n",
    "extraction_date = []\n",
    "\n",
    "for case in all_case_objects:\n",
    "    state_id.append(case['IdBundesland'])\n",
    "    state.append(case['Bundesland'])\n",
    "    gender.append(case['Geschlecht'])\n",
    "    province.append(case['Landkreis'])\n",
    "    province_id.append(case['IdLandkreis'])\n",
    "    object_id.append(case['ObjectId'])\n",
    "    reported_date.append(case['Meldedatum'])\n",
    "    death_count.append(case['AnzahlTodesfall'])\n",
    "    case_count.append(case['AnzahlFall'])\n",
    "    age_group_start.append(case['Altersgruppe'].split(\"-\")[0][1:])\n",
    "    try:\n",
    "        age_group_end.append(case['Altersgruppe'].split(\"-\")[1][1:])\n",
    "    except:\n",
    "        age_group_end.append(None)\n",
    "    extraction_date.append(datetime.datetime.today())\n",
    "\n",
    "all_columns = [state_id,state, gender, province_id, province, object_id, reported_date, death_count, case_count, age_group_start, age_group_end, extraction_date]\n"
   ]
  },
  {
   "cell_type": "code",
   "execution_count": 197,
   "metadata": {},
   "outputs": [],
   "source": [
    "column_names = [\"state_id\",\"state\", \"gender\",\"province_id\",\"province\",\"object_id\",\"reported_date\", \"death_count\", \"case_count\", \"age_group_start\", \"age_group_end\", \"extraction_date\"]\n",
    "df = pd.DataFrame(all_columns).transpose()\n",
    "df.columns = column_names"
   ]
  },
  {
   "cell_type": "code",
   "execution_count": 198,
   "metadata": {},
   "outputs": [
    {
     "data": {
      "text/html": [
       "<div>\n",
       "<style scoped>\n",
       "    .dataframe tbody tr th:only-of-type {\n",
       "        vertical-align: middle;\n",
       "    }\n",
       "\n",
       "    .dataframe tbody tr th {\n",
       "        vertical-align: top;\n",
       "    }\n",
       "\n",
       "    .dataframe thead th {\n",
       "        text-align: right;\n",
       "    }\n",
       "</style>\n",
       "<table border=\"1\" class=\"dataframe\">\n",
       "  <thead>\n",
       "    <tr style=\"text-align: right;\">\n",
       "      <th></th>\n",
       "      <th>state_id</th>\n",
       "      <th>state</th>\n",
       "      <th>gender</th>\n",
       "      <th>province_id</th>\n",
       "      <th>province</th>\n",
       "      <th>object_id</th>\n",
       "      <th>reported_date</th>\n",
       "      <th>death_count</th>\n",
       "      <th>case_count</th>\n",
       "      <th>age_group_start</th>\n",
       "      <th>age_group_end</th>\n",
       "      <th>extraction_date</th>\n",
       "    </tr>\n",
       "  </thead>\n",
       "  <tbody>\n",
       "    <tr>\n",
       "      <td>0</td>\n",
       "      <td>-1</td>\n",
       "      <td>-nicht erhoben-</td>\n",
       "      <td>W</td>\n",
       "      <td>0-1</td>\n",
       "      <td>-nicht erhoben-</td>\n",
       "      <td>146936</td>\n",
       "      <td>1584662400000</td>\n",
       "      <td>0</td>\n",
       "      <td>1</td>\n",
       "      <td>15</td>\n",
       "      <td>34</td>\n",
       "      <td>2020-03-21 15:17:35.085826</td>\n",
       "    </tr>\n",
       "    <tr>\n",
       "      <td>1</td>\n",
       "      <td>-1</td>\n",
       "      <td>-nicht erhoben-</td>\n",
       "      <td>M</td>\n",
       "      <td>0-1</td>\n",
       "      <td>-nicht erhoben-</td>\n",
       "      <td>146937</td>\n",
       "      <td>1584576000000</td>\n",
       "      <td>0</td>\n",
       "      <td>1</td>\n",
       "      <td>35</td>\n",
       "      <td>59</td>\n",
       "      <td>2020-03-21 15:17:35.085826</td>\n",
       "    </tr>\n",
       "    <tr>\n",
       "      <td>2</td>\n",
       "      <td>1</td>\n",
       "      <td>Schleswig-Holstein</td>\n",
       "      <td>M</td>\n",
       "      <td>01001</td>\n",
       "      <td>SK Flensburg</td>\n",
       "      <td>146938</td>\n",
       "      <td>1584144000000</td>\n",
       "      <td>0</td>\n",
       "      <td>1</td>\n",
       "      <td>15</td>\n",
       "      <td>34</td>\n",
       "      <td>2020-03-21 15:17:35.085826</td>\n",
       "    </tr>\n",
       "    <tr>\n",
       "      <td>3</td>\n",
       "      <td>1</td>\n",
       "      <td>Schleswig-Holstein</td>\n",
       "      <td>M</td>\n",
       "      <td>01001</td>\n",
       "      <td>SK Flensburg</td>\n",
       "      <td>146939</td>\n",
       "      <td>1584576000000</td>\n",
       "      <td>0</td>\n",
       "      <td>2</td>\n",
       "      <td>15</td>\n",
       "      <td>34</td>\n",
       "      <td>2020-03-21 15:17:35.085826</td>\n",
       "    </tr>\n",
       "    <tr>\n",
       "      <td>4</td>\n",
       "      <td>1</td>\n",
       "      <td>Schleswig-Holstein</td>\n",
       "      <td>W</td>\n",
       "      <td>01001</td>\n",
       "      <td>SK Flensburg</td>\n",
       "      <td>146940</td>\n",
       "      <td>1584144000000</td>\n",
       "      <td>0</td>\n",
       "      <td>1</td>\n",
       "      <td>15</td>\n",
       "      <td>34</td>\n",
       "      <td>2020-03-21 15:17:35.085826</td>\n",
       "    </tr>\n",
       "  </tbody>\n",
       "</table>\n",
       "</div>"
      ],
      "text/plain": [
       "  state_id               state gender province_id         province object_id  \\\n",
       "0       -1     -nicht erhoben-      W         0-1  -nicht erhoben-    146936   \n",
       "1       -1     -nicht erhoben-      M         0-1  -nicht erhoben-    146937   \n",
       "2        1  Schleswig-Holstein      M       01001     SK Flensburg    146938   \n",
       "3        1  Schleswig-Holstein      M       01001     SK Flensburg    146939   \n",
       "4        1  Schleswig-Holstein      W       01001     SK Flensburg    146940   \n",
       "\n",
       "   reported_date death_count case_count age_group_start age_group_end  \\\n",
       "0  1584662400000           0          1              15            34   \n",
       "1  1584576000000           0          1              35            59   \n",
       "2  1584144000000           0          1              15            34   \n",
       "3  1584576000000           0          2              15            34   \n",
       "4  1584144000000           0          1              15            34   \n",
       "\n",
       "             extraction_date  \n",
       "0 2020-03-21 15:17:35.085826  \n",
       "1 2020-03-21 15:17:35.085826  \n",
       "2 2020-03-21 15:17:35.085826  \n",
       "3 2020-03-21 15:17:35.085826  \n",
       "4 2020-03-21 15:17:35.085826  "
      ]
     },
     "execution_count": 198,
     "metadata": {},
     "output_type": "execute_result"
    }
   ],
   "source": [
    "df.head()"
   ]
  },
  {
   "cell_type": "code",
   "execution_count": null,
   "metadata": {},
   "outputs": [],
   "source": []
  }
 ],
 "metadata": {
  "kernelspec": {
   "display_name": "Python 3",
   "language": "python",
   "name": "python3"
  },
  "language_info": {
   "codemirror_mode": {
    "name": "ipython",
    "version": 3
   },
   "file_extension": ".py",
   "mimetype": "text/x-python",
   "name": "python",
   "nbconvert_exporter": "python",
   "pygments_lexer": "ipython3",
   "version": "3.7.4"
  }
 },
 "nbformat": 4,
 "nbformat_minor": 4
}
