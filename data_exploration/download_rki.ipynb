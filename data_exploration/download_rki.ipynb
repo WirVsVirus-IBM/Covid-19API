{
 "cells": [
  {
   "cell_type": "code",
   "execution_count": 83,
   "metadata": {},
   "outputs": [],
   "source": [
    "import requests\n",
    "import pandas as pd\n",
    "import json"
   ]
  },
  {
   "cell_type": "code",
   "execution_count": 84,
   "metadata": {},
   "outputs": [],
   "source": [
    "my_list = [0,2000,4000,6000,8000]\n",
    "json_files = []\n",
    "for item in my_list:\n",
    "    url = 'https://services7.arcgis.com/mOBPykOjAyBO2ZKk/arcgis/rest/services/RKI_COVID19/FeatureServer/0/query?f=json&where=1%3D1&outFields=*&resultOffset='+str(item)\n",
    "    r = requests.get(url, allow_redirects=True)\n",
    "    json_temp = r.json()\n",
    "    json_files.append(json_temp)"
   ]
  },
  {
   "cell_type": "code",
   "execution_count": 85,
   "metadata": {},
   "outputs": [
    {
     "data": {
      "text/plain": [
       "{'attributes': {'IdBundesland': -1,\n",
       "  'Bundesland': '-nicht erhoben-',\n",
       "  'Landkreis': '-nicht erhoben-',\n",
       "  'Altersgruppe': 'A15-A34',\n",
       "  'Geschlecht': 'W',\n",
       "  'AnzahlFall': 1,\n",
       "  'AnzahlTodesfall': 0,\n",
       "  'ObjectId': 146936,\n",
       "  'Meldedatum': 1584662400000,\n",
       "  'IdLandkreis': '0-1'}}"
      ]
     },
     "execution_count": 85,
     "metadata": {},
     "output_type": "execute_result"
    }
   ],
   "source": [
    "json_files[0][\"features\"][0]"
   ]
  },
  {
   "cell_type": "code",
   "execution_count": 86,
   "metadata": {},
   "outputs": [],
   "source": [
    "all_case_objects = []\n",
    "for json_file in json_files:\n",
    "    for item in json_file[\"features\"]:\n",
    "        all_case_objects.append(item[\"attributes\"])"
   ]
  },
  {
   "cell_type": "code",
   "execution_count": 87,
   "metadata": {},
   "outputs": [
    {
     "data": {
      "text/plain": [
       "8232"
      ]
     },
     "execution_count": 87,
     "metadata": {},
     "output_type": "execute_result"
    }
   ],
   "source": [
    "len(all_case_objects)"
   ]
  },
  {
   "cell_type": "code",
   "execution_count": 92,
   "metadata": {},
   "outputs": [],
   "source": [
    "bundesland_ids = []\n",
    "bundeslands = []\n",
    "provinces = []\n",
    "age_groups = []\n",
    "genders = []\n",
    "number_cases = []\n",
    "number_deaths = []\n",
    "object_ids = []\n",
    "meldedates = []\n",
    "landkreis_ids = []\n",
    "\n",
    "for case in all_case_objects:\n",
    "    bundesland_ids.append(case['IdBundesland'])\n",
    "    bundeslands.append(case['Bundesland'])\n",
    "    provinces.append(case['Landkreis'])\n",
    "    age_groups.append(case['Altersgruppe'])\n",
    "    genders.append(case['Geschlecht'])\n",
    "    number_cases.append(case['AnzahlFall'])\n",
    "    number_deaths.append(case['AnzahlTodesfall'])\n",
    "    object_ids.append(case['ObjectId'])\n",
    "    meldedates.append(case['Meldedatum'])\n",
    "    landkreis_ids.append(case['IdLandkreis'])"
   ]
  },
  {
   "cell_type": "code",
   "execution_count": 94,
   "metadata": {},
   "outputs": [
    {
     "data": {
      "text/html": [
       "<div>\n",
       "<style scoped>\n",
       "    .dataframe tbody tr th:only-of-type {\n",
       "        vertical-align: middle;\n",
       "    }\n",
       "\n",
       "    .dataframe tbody tr th {\n",
       "        vertical-align: top;\n",
       "    }\n",
       "\n",
       "    .dataframe thead th {\n",
       "        text-align: right;\n",
       "    }\n",
       "</style>\n",
       "<table border=\"1\" class=\"dataframe\">\n",
       "  <thead>\n",
       "    <tr style=\"text-align: right;\">\n",
       "      <th></th>\n",
       "      <th>BundeslandID</th>\n",
       "      <th>Bundesland</th>\n",
       "      <th>Landkreis</th>\n",
       "      <th>Altersgruppe</th>\n",
       "      <th>Geschlecht</th>\n",
       "      <th>AnzahlFall</th>\n",
       "      <th>AnzahlTodesfall</th>\n",
       "      <th>ObjectID</th>\n",
       "      <th>Meldedatum</th>\n",
       "      <th>LandkreisID</th>\n",
       "    </tr>\n",
       "  </thead>\n",
       "  <tbody>\n",
       "    <tr>\n",
       "      <td>0</td>\n",
       "      <td>-1</td>\n",
       "      <td>-nicht erhoben-</td>\n",
       "      <td>-nicht erhoben-</td>\n",
       "      <td>A15-A34</td>\n",
       "      <td>W</td>\n",
       "      <td>1</td>\n",
       "      <td>0</td>\n",
       "      <td>146936</td>\n",
       "      <td>1584662400000</td>\n",
       "      <td>0-1</td>\n",
       "    </tr>\n",
       "    <tr>\n",
       "      <td>1</td>\n",
       "      <td>-1</td>\n",
       "      <td>-nicht erhoben-</td>\n",
       "      <td>-nicht erhoben-</td>\n",
       "      <td>A35-A59</td>\n",
       "      <td>M</td>\n",
       "      <td>1</td>\n",
       "      <td>0</td>\n",
       "      <td>146937</td>\n",
       "      <td>1584576000000</td>\n",
       "      <td>0-1</td>\n",
       "    </tr>\n",
       "    <tr>\n",
       "      <td>2</td>\n",
       "      <td>1</td>\n",
       "      <td>Schleswig-Holstein</td>\n",
       "      <td>SK Flensburg</td>\n",
       "      <td>A15-A34</td>\n",
       "      <td>M</td>\n",
       "      <td>1</td>\n",
       "      <td>0</td>\n",
       "      <td>146938</td>\n",
       "      <td>1584144000000</td>\n",
       "      <td>01001</td>\n",
       "    </tr>\n",
       "    <tr>\n",
       "      <td>3</td>\n",
       "      <td>1</td>\n",
       "      <td>Schleswig-Holstein</td>\n",
       "      <td>SK Flensburg</td>\n",
       "      <td>A15-A34</td>\n",
       "      <td>M</td>\n",
       "      <td>2</td>\n",
       "      <td>0</td>\n",
       "      <td>146939</td>\n",
       "      <td>1584576000000</td>\n",
       "      <td>01001</td>\n",
       "    </tr>\n",
       "    <tr>\n",
       "      <td>4</td>\n",
       "      <td>1</td>\n",
       "      <td>Schleswig-Holstein</td>\n",
       "      <td>SK Flensburg</td>\n",
       "      <td>A15-A34</td>\n",
       "      <td>W</td>\n",
       "      <td>1</td>\n",
       "      <td>0</td>\n",
       "      <td>146940</td>\n",
       "      <td>1584144000000</td>\n",
       "      <td>01001</td>\n",
       "    </tr>\n",
       "  </tbody>\n",
       "</table>\n",
       "</div>"
      ],
      "text/plain": [
       "   BundeslandID          Bundesland        Landkreis Altersgruppe Geschlecht  \\\n",
       "0            -1     -nicht erhoben-  -nicht erhoben-      A15-A34          W   \n",
       "1            -1     -nicht erhoben-  -nicht erhoben-      A35-A59          M   \n",
       "2             1  Schleswig-Holstein     SK Flensburg      A15-A34          M   \n",
       "3             1  Schleswig-Holstein     SK Flensburg      A15-A34          M   \n",
       "4             1  Schleswig-Holstein     SK Flensburg      A15-A34          W   \n",
       "\n",
       "   AnzahlFall  AnzahlTodesfall  ObjectID     Meldedatum LandkreisID  \n",
       "0           1                0    146936  1584662400000         0-1  \n",
       "1           1                0    146937  1584576000000         0-1  \n",
       "2           1                0    146938  1584144000000       01001  \n",
       "3           2                0    146939  1584576000000       01001  \n",
       "4           1                0    146940  1584144000000       01001  "
      ]
     },
     "execution_count": 94,
     "metadata": {},
     "output_type": "execute_result"
    }
   ],
   "source": [
    "df = pd.DataFrame({'BundeslandID': bundesland_ids, 'Bundesland': bundeslands, 'Landkreis': provinces, \n",
    "                   'Altersgruppe': age_groups, 'Geschlecht': genders, 'AnzahlFall': number_cases,\n",
    "                   'AnzahlTodesfall': number_deaths, 'ObjectID': object_ids, 'Meldedatum': meldedates,\n",
    "                  'LandkreisID': landkreis_ids})"
   ]
  },
  {
   "cell_type": "code",
   "execution_count": 96,
   "metadata": {},
   "outputs": [
    {
     "data": {
      "text/plain": [
       "47"
      ]
     },
     "execution_count": 96,
     "metadata": {},
     "output_type": "execute_result"
    }
   ],
   "source": [
    "df.AnzahlTodesfall.sum()"
   ]
  },
  {
   "cell_type": "code",
   "execution_count": 97,
   "metadata": {},
   "outputs": [
    {
     "data": {
      "text/plain": [
       "16664"
      ]
     },
     "execution_count": 97,
     "metadata": {},
     "output_type": "execute_result"
    }
   ],
   "source": [
    "df.AnzahlFall.sum()"
   ]
  },
  {
   "cell_type": "code",
   "execution_count": null,
   "metadata": {},
   "outputs": [],
   "source": []
  }
 ],
 "metadata": {
  "kernelspec": {
   "display_name": "Python 3",
   "language": "python",
   "name": "python3"
  },
  "language_info": {
   "codemirror_mode": {
    "name": "ipython",
    "version": 3
   },
   "file_extension": ".py",
   "mimetype": "text/x-python",
   "name": "python",
   "nbconvert_exporter": "python",
   "pygments_lexer": "ipython3",
   "version": "3.7.4"
  }
 },
 "nbformat": 4,
 "nbformat_minor": 4
}
